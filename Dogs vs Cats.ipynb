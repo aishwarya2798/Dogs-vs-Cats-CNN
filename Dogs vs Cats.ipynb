{
  "cells": [
    {
      "metadata": {
        "_uuid": "8f2839f25d086af736a60e9eeb907d3b93b6e0e5",
        "_cell_guid": "b1076dfc-b9ad-4769-8c92-a6c4dae69d19",
        "trusted": true,
        "collapsed": true
      },
      "cell_type": "code",
      "source": "# This Python 3 environment comes with many helpful analytics libraries installed\n# It is defined by the kaggle/python docker image: https://github.com/kaggle/docker-python\n# For example, here's several helpful packages to load in \n\nimport numpy as np # linear algebra\nimport pandas as pd # data processing, CSV file I/O (e.g. pd.read_csv)\n\n# Input data files are available in the \"../input/\" directory.\n# For example, running this (by clicking run or pressing Shift+Enter) will list the files in the input directory\n\nimport os\nprint(os.listdir(\"../input\"))\n\n# Any results you write to the current directory are saved as output.",
      "execution_count": null,
      "outputs": []
    },
    {
      "metadata": {
        "_cell_guid": "79c7e3d0-c299-4dcb-8224-4455121ee9b0",
        "collapsed": true,
        "_uuid": "d629ff2d2480ee46fbb7e2d37f6b5fab8052498a",
        "trusted": true
      },
      "cell_type": "code",
      "source": "import pandas as pd\nimport numpy as np\nimport cv2\nfrom random import shuffle\nfrom tqdm import tqdm\nimport os",
      "execution_count": null,
      "outputs": []
    },
    {
      "metadata": {
        "trusted": true,
        "collapsed": true,
        "_uuid": "4240e90d3c846694cfdd5ddda9b0e94f09291f77"
      },
      "cell_type": "code",
      "source": "train = '../input/train'\ntest = '../input/test'",
      "execution_count": null,
      "outputs": []
    },
    {
      "metadata": {
        "trusted": true,
        "collapsed": true,
        "_uuid": "7bd03fb8a6f04f25dacae0f64013933cb3492faa"
      },
      "cell_type": "code",
      "source": "img_size = 50\nlr = 0.001",
      "execution_count": null,
      "outputs": []
    },
    {
      "metadata": {
        "trusted": true,
        "collapsed": true,
        "_uuid": "f6c01aa139979a34c77cc1ffc1bbd4d789b63d82"
      },
      "cell_type": "code",
      "source": "def label_image(img):\n    word_label = img.split('.')[-3]\n    if word_label == 'dog':\n        return [1, 0]\n    elif word_label == 'cat':\n        return [0, 1]",
      "execution_count": null,
      "outputs": []
    },
    {
      "metadata": {
        "trusted": true,
        "collapsed": true,
        "_uuid": "bbd41a965f0f699fa23b78b10c40e222a884480f"
      },
      "cell_type": "code",
      "source": "def create_training_data():\n    training_data = []\n    for img in os.listdir(train):\n        label = label_image(img)\n        path = os.path.join(train, img)\n        img = cv2.resize(cv2.imread(path, cv2.IMREAD_GRAYSCALE), (img_size, img_size))\n        training_data.append([np.array(img), np.array(label)])\n    shuffle(training_data)\n    return training_data",
      "execution_count": null,
      "outputs": []
    },
    {
      "metadata": {
        "trusted": true,
        "collapsed": true,
        "_uuid": "0fe5b130c25772399b4438c7f4a8a5ec00f59648"
      },
      "cell_type": "code",
      "source": "def process_data():\n    testing_data = []\n    for img in os.listdir(test):\n        path = os.path.join(test,img)\n        img_num = img.split('.')[0]\n        img = cv2.resize(cv2.imread(path,cv2.IMREAD_GRAYSCALE),(img_size,img_size))\n        testing_data.append([np.array(img),img_num])\n        return testing_data\n        ",
      "execution_count": null,
      "outputs": []
    },
    {
      "metadata": {
        "trusted": true,
        "collapsed": true,
        "_uuid": "03549cdc0c437c3dadfb3610e33fdf17f72a652b"
      },
      "cell_type": "code",
      "source": "train_data = create_training_data()",
      "execution_count": null,
      "outputs": []
    },
    {
      "metadata": {
        "trusted": true,
        "_uuid": "c272fff0da9ef682c2e64856dd4e76b4ba3b84b4",
        "collapsed": true
      },
      "cell_type": "code",
      "source": "import tflearn\nfrom tflearn.layers.conv import conv_2d, max_pool_2d\nfrom tflearn.layers.core import input_data, dropout, fully_connected\nfrom tflearn.layers.estimator import regression\n\nconvnet = input_data(shape=[None, img_size, img_size, 1], name='input')\n\nconvnet = conv_2d(convnet, 32, 2, activation='relu')\nconvnet = max_pool_2d(convnet, 2)\n\nconvnet = conv_2d(convnet, 64, 2, activation='relu')\nconvnet = max_pool_2d(convnet, 2)\n\nconvnet = conv_2d(convnet, 32, 2, activation='relu')\nconvnet = max_pool_2d(convnet, 2)\n\nconvnet = conv_2d(convnet, 64, 2, activation='relu')\nconvnet = max_pool_2d(convnet, 2)\n\nconvnet = conv_2d(convnet, 32, 2, activation='relu')\nconvnet = max_pool_2d(convnet, 2)\n\nconvnet = conv_2d(convnet, 64, 2, activation='relu')\nconvnet = max_pool_2d(convnet, 2)\n\nconvnet = fully_connected(convnet, 1024, activation='relu')\nconvnet = dropout(convnet, 0.8)\n\nconvnet = fully_connected(convnet, 2, activation='softmax')\nconvnet = regression(convnet, optimizer='adam', learning_rate=lr, loss='categorical_crossentropy', name='targets')\n\nmodel = tflearn.DNN(convnet, tensorboard_dir='log')",
      "execution_count": null,
      "outputs": []
    },
    {
      "metadata": {
        "trusted": true,
        "_uuid": "e297af96cf1a481364580aed4b5defe6a3422a10",
        "collapsed": true
      },
      "cell_type": "code",
      "source": "train_d = train_data[: -500]\ntest_d = train_data[-500:]",
      "execution_count": null,
      "outputs": []
    },
    {
      "metadata": {
        "trusted": true,
        "_uuid": "f5e86fcdb7d73541a0cb974e6c372072e4332aaa",
        "collapsed": true
      },
      "cell_type": "code",
      "source": "X = np.array([i[0] for i in train_d]).reshape(-1, img_size, img_size, 1)\nY = np.array([i[1]for i in train_d])\n\ntest_x =  np.array([i[0] for i in test_d]).reshape(-1, img_size, img_size, 1)\ntest_y = np.array([i[1]for i in test_d])",
      "execution_count": null,
      "outputs": []
    },
    {
      "metadata": {
        "trusted": true,
        "_uuid": "0211b3381faea1f562a913d410e7ee7ffda69f29",
        "collapsed": true
      },
      "cell_type": "code",
      "source": "model.fit({'input': X}, {'targets': Y}, n_epoch=3, validation_set=({'input': test_x}, {'targets': test_y}), \n    snapshot_step=500, show_metric=True)",
      "execution_count": null,
      "outputs": []
    },
    {
      "metadata": {
        "trusted": true,
        "collapsed": true,
        "_uuid": "d35ba1704a4e3ebf8afaa0e22a95172239ba4441"
      },
      "cell_type": "code",
      "source": "",
      "execution_count": null,
      "outputs": []
    }
  ],
  "metadata": {
    "kernelspec": {
      "display_name": "Python 3",
      "language": "python",
      "name": "python3"
    },
    "language_info": {
      "name": "python",
      "version": "3.6.4",
      "mimetype": "text/x-python",
      "codemirror_mode": {
        "name": "ipython",
        "version": 3
      },
      "pygments_lexer": "ipython3",
      "nbconvert_exporter": "python",
      "file_extension": ".py"
    }
  },
  "nbformat": 4,
  "nbformat_minor": 1
}